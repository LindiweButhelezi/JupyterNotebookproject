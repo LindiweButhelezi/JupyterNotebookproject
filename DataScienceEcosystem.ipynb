{
 "cells": [
  {
   "cell_type": "markdown",
   "id": "e62fab20-3db5-4f9b-a0f3-0f7750a62b3b",
   "metadata": {},
   "source": [
    "# Data Science Tools and Ecosystem"
   ]
  },
  {
   "cell_type": "markdown",
   "id": "ee080710-fcff-40da-aad6-28e141130299",
   "metadata": {},
   "source": [
    "In this notebook, Data Science Tools and Ecosystem are summarized."
   ]
  },
  {
   "cell_type": "markdown",
   "id": "52014b8b-9e44-4236-9c3a-cdb6748ea097",
   "metadata": {},
   "source": [
    "**Objectives:**\n",
    "+ Popular languages for Data Science\n",
    "+ Some of the commonly used libraries used by Data Scientists\n",
    "+ Open source tools used in Data Science\n",
    "+ Arithmetic expressions in Python"
   ]
  },
  {
   "cell_type": "markdown",
   "id": "4537001d-3e65-457e-b43f-916714f3e82e",
   "metadata": {},
   "source": [
    "Some of the popular languages that Data Scientists use are:\n",
    "1. Python\n",
    "2. R\n",
    "3. SQL"
   ]
  },
  {
   "cell_type": "markdown",
   "id": "37e32c39-2145-4e18-b216-894bd5a13958",
   "metadata": {},
   "source": [
    "Some of the commonly used libraries used by Data Scientists include:\n",
    "1. Scientific computing libraries in Python(Pandas and NumPy)\n",
    "2. Visualization libraries in Python(Matplotlib and Seaborn)\n",
    "3. Machine learning and Deep learning libraries in Python(Scikit-learn and Keras)"
   ]
  },
  {
   "cell_type": "markdown",
   "id": "154a82b2-87df-4131-89dc-9f0848c006cb",
   "metadata": {},
   "source": [
    "|Data Science Tools|\n",
    "|------------------|\n",
    "|Jupyter NoteBooks|\n",
    "|RStudio|\n",
    "|Spyder|"
   ]
  },
  {
   "cell_type": "markdown",
   "id": "205ab5d1-cb64-476a-8700-1f15b87d5661",
   "metadata": {},
   "source": [
    "### Below are a few examples of evaluating arithmetic expressions in Python"
   ]
  },
  {
   "cell_type": "code",
   "execution_count": 1,
   "id": "0fe293e8-4ddf-49b5-aaff-6989df16f268",
   "metadata": {
    "tags": []
   },
   "outputs": [
    {
     "data": {
      "text/plain": [
       "17"
      ]
     },
     "execution_count": 1,
     "metadata": {},
     "output_type": "execute_result"
    }
   ],
   "source": [
    "# This is a simple arithmetic expression to multiply then add integers\n",
    "(3*4)+5"
   ]
  },
  {
   "cell_type": "code",
   "execution_count": 2,
   "id": "8d280a46-b7f8-4455-9d70-94564997e24e",
   "metadata": {
    "tags": []
   },
   "outputs": [
    {
     "data": {
      "text/plain": [
       "3.3333333333333335"
      ]
     },
     "execution_count": 2,
     "metadata": {},
     "output_type": "execute_result"
    }
   ],
   "source": [
    "# This will convert 200 minutes to hours by dividing 60\n",
    "200/60"
   ]
  },
  {
   "cell_type": "markdown",
   "id": "8c6ea401-410a-42ba-a1fe-f64ac4ead61b",
   "metadata": {},
   "source": [
    "## Author\n",
    "Lindiwe Buthelezi"
   ]
  },
  {
   "cell_type": "code",
   "execution_count": null,
   "id": "4c2b1bab-6032-4bb0-9061-5348a7ffe414",
   "metadata": {},
   "outputs": [],
   "source": []
  }
 ],
 "metadata": {
  "kernelspec": {
   "display_name": "Python",
   "language": "python",
   "name": "conda-env-python-py"
  },
  "language_info": {
   "codemirror_mode": {
    "name": "ipython",
    "version": 3
   },
   "file_extension": ".py",
   "mimetype": "text/x-python",
   "name": "python",
   "nbconvert_exporter": "python",
   "pygments_lexer": "ipython3",
   "version": "3.7.12"
  }
 },
 "nbformat": 4,
 "nbformat_minor": 5
}
